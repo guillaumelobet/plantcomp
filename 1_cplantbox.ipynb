{
  "cells": [
    {
      "cell_type": "code",
      "execution_count": null,
      "id": "0765868e",
      "metadata": {
        "id": "0765868e"
      },
      "outputs": [],
      "source": [
        "# # !!! only uncomment and run when using colab !!!\n",
        "import os\n",
        "! git clone https://github.com/Plant-Root-Soil-Interactions-Modelling/CPlantBox # downloading the source code\n",
        "os.chdir(\"/content/CPlantBox/\")\n",
        "! git pull\n",
        "! cmake .\n",
        "! make\n",
        "os.chdir(\"/content/CPlantBox/tutorial/jupyter/summer_school_2022/\")"
      ]
    },
    {
      "cell_type": "markdown",
      "id": "b969a136",
      "metadata": {
        "id": "b969a136"
      },
      "source": [
        "# Day 3 - Plant modelling with CPlantBox"
      ]
    },
    {
      "cell_type": "code",
      "execution_count": 16,
      "id": "de561c3e",
      "metadata": {
        "id": "de561c3e"
      },
      "outputs": [],
      "source": [
        "import sys; sys.path.append(\"../../..\"); sys.path.append(\"../../../src/python_modules\")\n",
        "import plantbox as pb\n",
        "#import vtk_plot as vp # for quick 3d vizualisations\n",
        "import matplotlib.pyplot as plt # for 2d plots\n",
        "import numpy as np\n",
        "import pandas as pd\n",
        "from plotnine import *"
      ]
    },
    {
      "cell_type": "markdown",
      "id": "170c3976",
      "metadata": {
        "id": "170c3976"
      },
      "source": [
        "## 1. Simulate a root system"
      ]
    },
    {
      "cell_type": "code",
      "execution_count": 24,
      "id": "aa1f2a2e",
      "metadata": {
        "id": "aa1f2a2e"
      },
      "outputs": [],
      "source": [
        "# Create instance describing a root system\n",
        "rs = pb.RootSystem()\n",
        "\n",
        "# Open plant and root parameter from a file\n",
        "path = \"../../../modelparameter/rootsystem/\"\n",
        "#name = \"Zea_mays_1_Leitner_2010\"\n",
        "name = \"Glycine_max_Moraes2020\"\n",
        "#name = \"Pisum_sativum_a_Pagès_2014\"\n",
        "rs.readParameters(path + name + \".xml\")\n",
        "\n",
        "# Simulate\n",
        "rs.initialize() \n",
        "rs.simulate(30) # [days]\n",
        "\n",
        "# Export\n",
        "ana = pb.SegmentAnalyser(rs)\n",
        "ana.write(\"first_example.txt\") # e.g. gui/viewer/rsml_viewer.py\n"
      ]
    },
    {
      "cell_type": "markdown",
      "source": [
        "### Visualize the root system"
      ],
      "metadata": {
        "id": "Tl_T3Kee6Jqo"
      },
      "id": "Tl_T3Kee6Jqo"
    },
    {
      "cell_type": "code",
      "source": [
        "dat = pd.read_csv(\"first_example.txt\", sep=\" \")\n",
        "\n",
        "\n",
        "%matplotlib inline\n",
        "\n",
        "(ggplot(dat)         # defining what data to use\n",
        " + aes()    # defining what variable to use\n",
        " + geom_segment(aes(x = \"x1\", y = \"y1\", xend = \"x2\", yend = \"y2\", colour=\"time\"))\n",
        " + coord_fixed()\n",
        ")"
      ],
      "metadata": {
        "id": "Zk0YqsVa6BE0"
      },
      "id": "Zk0YqsVa6BE0",
      "execution_count": null,
      "outputs": []
    },
    {
      "cell_type": "markdown",
      "id": "7685baaa",
      "metadata": {
        "id": "7685baaa"
      },
      "source": [
        "## 2. Post-processing (how to evaluate simulation results)\n",
        "\n",
        "Basically, there are two methods \n",
        "\n",
        "1. Using class *RootSystem* directly, parameter values are given per root (root system is represented as polylines).\n",
        "\n",
        "2. Using class *SegmentAnalyser*, which will consider all segments of the root system, parameter values are given per segment (root system is represented by nodes and segments)."
      ]
    },
    {
      "cell_type": "markdown",
      "id": "7361b23f",
      "metadata": {
        "id": "7361b23f"
      },
      "source": [
        "### 2.1 Root system length vs time"
      ]
    },
    {
      "cell_type": "markdown",
      "id": "eb87e5ce",
      "metadata": {
        "id": "eb87e5ce"
      },
      "source": [
        "A typical simulation loop will look like"
      ]
    },
    {
      "cell_type": "markdown",
      "id": "c8c33d34",
      "metadata": {
        "id": "c8c33d34"
      },
      "source": [
        "The following example will plot length versus time for the root system, and each subType (see *example2d_length.py*"
      ]
    },
    {
      "cell_type": "code",
      "execution_count": null,
      "id": "2ab819d2",
      "metadata": {
        "id": "2ab819d2"
      },
      "outputs": [],
      "source": [
        "rs = pb.RootSystem()\n",
        "path = \"../../../modelparameter/rootsystem/\"\n",
        "#name = \"Zea_mays_1_Leitner_2010\"\n",
        "rs.readParameters(path + name + \".xml\")\n",
        "rs.setGeometry(pb.SDF_PlantBox(1.e6,1.e6,1.e6)) \n",
        "rs.initialize()\n",
        "\n",
        "\"\"\" Simulation loop \"\"\"\n",
        "simtime = 60.  # final simulation time [day]\n",
        "dt = 1. # time step [day]\n",
        "N = round(simtime / dt)  # number of iterations\n",
        "\n",
        "\n",
        "rs.initialize() # reset above simulation\n",
        "scalar_type = \"length\" # \"surface\", \"volume\"\n",
        "v_, v1_, v2_, v3_, v4_ = np.zeros(N), np.zeros(N), np.zeros(N), np.zeros(N), np.zeros(N)\n",
        "\n",
        "\"\"\" Simulation loop \"\"\"\n",
        "for i in range(0, N):\n",
        "    rs.simulate(dt)\n",
        "    t = np.array(rs.getParameter(\"subType\")) # value per root\n",
        "    v = np.array(rs.getParameter(scalar_type)) # all random or specific parameters are accessible\n",
        "    v_[i] = np.sum(v)\n",
        "    v1_[i] = np.sum(v[t == 1])\n",
        "    v2_[i] = np.sum(v[t == 2])\n",
        "    v3_[i] = np.sum(v[t == 3])\n",
        "    v4_[i] = np.sum(v[t == 4])\n",
        "    \n",
        "t_ = np.linspace(dt, N * dt, N)\n",
        "plt.plot(t_, v_, t_, v1_, t_, v2_, t_, v3_, t_, v4_)\n",
        "plt.xlabel(\"time (days)\")\n",
        "plt.ylabel(scalar_type + \" (cm)\")\n",
        "plt.legend([\"total\", \"tap root\", \"lateral\", \"2nd order lateral\", \"basal roots\"])\n",
        "# plt.savefig(\"myplot.png\") # we could save it as png\n",
        "plt.show()\n",
        "print(\"final tap root length: \", v1_[-1], \"cm\")"
      ]
    },
    {
      "cell_type": "markdown",
      "id": "93c56759",
      "metadata": {
        "id": "93c56759"
      },
      "source": [
        "## 2.2 Analyse results from the class *SegmentAnalyser* (values per segment) in a loop\n",
        "\n",
        "The main functionality of the *SegmentAnalyser* class is:\n",
        "* *getParameter(name)* as for *RootSystem* class, but returning a value for each segment, especially the \"creationTime\" of each segment\n",
        "* *filter(name, min, max)* will keep only segments where the value of parameter *name* is within [min, max]\n",
        "* *crop(sdf)* will keep only segments inside a geometry (e.g. in a soil core), segments intersecting the domain boundary are cut. \n",
        "* *distribution(...)* will create a 1d plot versus depth, where parameters are summed in layers \n",
        "* *distribution2d(...)* as above but 2d\n",
        "* *mapPeriodic(length, width)* maps the unconstrained root system into a periodic domain\n",
        "* *addData(name, data)* attach user data to the segments (e.g. simulation results for visualization or export)\n",
        "\n",
        "Note that *SegmentAnalyser* is only loosly connected to the original simulation.\n",
        "\n",
        "The first example shows how to obtain a depth distribution (values per segment) in a simulation loop."
      ]
    },
    {
      "cell_type": "code",
      "execution_count": null,
      "id": "64841be1",
      "metadata": {
        "id": "64841be1"
      },
      "outputs": [],
      "source": [
        "s = pb.RootSystem()\n",
        "path = \"../../../modelparameter/rootsystem/\"\n",
        "#name = \"Lupinus_albus_Leitner_2014\"\n",
        "rs.readParameters(path + name + \".xml\")\n",
        "rs.setGeometry(pb.SDF_PlantBox(1.e6,1.e6,1.e6)) \n",
        "rs.initialize()\n",
        "\n",
        "simtimes = [0,10,20,40,60] # day\n",
        "dt_ = np.diff(simtimes) # day\n",
        "depth = 50 # cm\n",
        "layers = 60 # [1]\n",
        "\n",
        "\"\"\" Simulation loop \"\"\"\n",
        "rsd_ = []\n",
        "for dt in dt_:    \n",
        "    rs.simulate(dt)\n",
        "    # _ = vp.plot_roots(rs, \"subType\") # to observe growth\n",
        "    ana = pb.SegmentAnalyser(rs) # create a SegmentAnalyser object\n",
        "    rsd = ana.distribution(\"surface\", 0., -depth, layers, True)\n",
        "    rsd_.append(rsd) # store relevant data in a list\n",
        "\n",
        "\"\"\" vizualize rld_ \"\"\"\n",
        "soilvolume = (depth / layers) * 10 * 10\n",
        "rsd_ = np.array(rsd_) / soilvolume  # convert to density [cm2/cm3]\n",
        "\n",
        "z_ = np.linspace(0, -depth, layers)  # z - axis\n",
        "for i, t in enumerate(simtimes[1:]):\n",
        "    plt.plot(rsd_[i,:], z_, label = \"at time \"+str(t))\n",
        "\n",
        "plt.xlabel(\"root surface (cm^2 / cm^3)\")\n",
        "plt.ylabel(\"z-coordinate (cm)\")\n",
        "plt.legend()\n",
        "# plt.savefig(\"surface_density.png\")\n",
        "plt.show()\n",
        "# _ = vp.plot_roots(rs, \"subType\") # final result"
      ]
    },
    {
      "cell_type": "code",
      "execution_count": null,
      "id": "48a9f130",
      "metadata": {
        "id": "48a9f130"
      },
      "outputs": [],
      "source": [
        ""
      ]
    }
  ],
  "metadata": {
    "kernelspec": {
      "display_name": "Python 3 (ipykernel)",
      "language": "python",
      "name": "python3"
    },
    "language_info": {
      "codemirror_mode": {
        "name": "ipython",
        "version": 3
      },
      "file_extension": ".py",
      "mimetype": "text/x-python",
      "name": "python",
      "nbconvert_exporter": "python",
      "pygments_lexer": "ipython3",
      "version": "3.10.4"
    },
    "latex_envs": {
      "LaTeX_envs_menu_present": true,
      "autoclose": false,
      "autocomplete": true,
      "bibliofile": "biblio.bib",
      "cite_by": "apalike",
      "current_citInitial": 1,
      "eqLabelWithNumbers": true,
      "eqNumInitial": 1,
      "hotkeys": {
        "equation": "Ctrl-E",
        "itemize": "Ctrl-I"
      },
      "labels_anchors": false,
      "latex_user_defs": false,
      "report_style_numbering": false,
      "user_envs_cfg": false
    },
    "colab": {
      "name": "1_cplantbox.ipynb",
      "provenance": []
    }
  },
  "nbformat": 4,
  "nbformat_minor": 5
}
